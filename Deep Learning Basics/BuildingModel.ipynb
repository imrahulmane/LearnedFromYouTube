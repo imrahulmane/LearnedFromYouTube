{
 "cells": [
  {
   "cell_type": "code",
   "execution_count": 1,
   "metadata": {},
   "outputs": [],
   "source": [
    "import numpy as np\n",
    "import pickle\n",
    "import time\n",
    "import cv2\n",
    "import os\n",
    "\n",
    "import tensorflow as tf\n",
    "from tensorflow.keras.callbacks import TensorBoard\n",
    "from tensorflow.keras.models import Sequential\n",
    "from tensorflow.keras.layers import Dense, Dropout, Activation, Flatten, Conv2D, MaxPooling2D"
   ]
  },
  {
   "cell_type": "code",
   "execution_count": 12,
   "metadata": {},
   "outputs": [],
   "source": [
    "%load_ext tensorboard"
   ]
  },
  {
   "cell_type": "code",
   "execution_count": 13,
   "metadata": {},
   "outputs": [],
   "source": [
    "X = pickle.load(open(\"X.pickle\",'rb'))\n",
    "y = pickle.load(open(\"y.pickle\",'rb'))\n",
    "\n",
    "X = X / 255.0"
   ]
  },
  {
   "cell_type": "code",
   "execution_count": 14,
   "metadata": {},
   "outputs": [],
   "source": [
    "dense_layers = [1]\n",
    "layer_sizes = [64]\n",
    "conv_layers = [3]"
   ]
  },
  {
   "cell_type": "code",
   "execution_count": 15,
   "metadata": {},
   "outputs": [
    {
     "name": "stdout",
     "output_type": "stream",
     "text": [
      "3-conv-64-nodes-1-dense1579719052\n"
     ]
    },
    {
     "name": "stderr",
     "output_type": "stream",
     "text": [
      "WARNING: Logging before flag parsing goes to stderr.\n",
      "W0123 00:20:53.041810 4405083584 deprecation.py:323] From /Users/spiedy/anaconda3/lib/python3.7/site-packages/tensorflow_core/python/ops/nn_impl.py:183: where (from tensorflow.python.ops.array_ops) is deprecated and will be removed in a future version.\n",
      "Instructions for updating:\n",
      "Use tf.where in 2.0, which has the same broadcast rule as np.where\n"
     ]
    },
    {
     "name": "stdout",
     "output_type": "stream",
     "text": [
      "Train on 17462 samples, validate on 7484 samples\n",
      "Epoch 1/10\n",
      "17462/17462 [==============================] - 179s 10ms/sample - loss: 0.6536 - accuracy: 0.6048 - val_loss: 0.6337 - val_accuracy: 0.6480\n",
      "Epoch 2/10\n",
      "17462/17462 [==============================] - 162s 9ms/sample - loss: 0.5500 - accuracy: 0.7150 - val_loss: 0.5416 - val_accuracy: 0.7254\n",
      "Epoch 3/10\n",
      "17462/17462 [==============================] - 197s 11ms/sample - loss: 0.4773 - accuracy: 0.7736 - val_loss: 0.4835 - val_accuracy: 0.7695\n",
      "Epoch 4/10\n",
      "17462/17462 [==============================] - 205s 12ms/sample - loss: 0.4354 - accuracy: 0.7980 - val_loss: 0.4437 - val_accuracy: 0.7962\n",
      "Epoch 5/10\n",
      "17462/17462 [==============================] - 209s 12ms/sample - loss: 0.3927 - accuracy: 0.8237 - val_loss: 0.4396 - val_accuracy: 0.8052\n",
      "Epoch 6/10\n",
      "17462/17462 [==============================] - 213s 12ms/sample - loss: 0.3559 - accuracy: 0.8434 - val_loss: 0.4400 - val_accuracy: 0.8045\n",
      "Epoch 7/10\n",
      "17462/17462 [==============================] - 169s 10ms/sample - loss: 0.3202 - accuracy: 0.8590 - val_loss: 0.4137 - val_accuracy: 0.8084\n",
      "Epoch 8/10\n",
      "17462/17462 [==============================] - 162s 9ms/sample - loss: 0.2838 - accuracy: 0.8763 - val_loss: 0.4277 - val_accuracy: 0.8104\n",
      "Epoch 9/10\n",
      "17462/17462 [==============================] - 162s 9ms/sample - loss: 0.2469 - accuracy: 0.8964 - val_loss: 0.4301 - val_accuracy: 0.8230\n",
      "Epoch 10/10\n",
      "17462/17462 [==============================] - 160s 9ms/sample - loss: 0.2119 - accuracy: 0.9131 - val_loss: 0.4432 - val_accuracy: 0.8251\n"
     ]
    }
   ],
   "source": [
    "for dense_layer in dense_layers:\n",
    "    for layer_size in layer_sizes:\n",
    "        for conv_layer in conv_layers:\n",
    "            NAME = \"{}-conv-{}-nodes-{}-dense{}\".format(conv_layer, layer_size, dense_layer, int(time.time()))\n",
    "            tensorboard = TensorBoard(log_dir='logs/{}'.format(NAME))\n",
    "            print(NAME)\n",
    "\n",
    "            model = Sequential()\n",
    "\n",
    "            model.add(Conv2D(64, (3,3), input_shape=X.shape[1:], activation='relu'))\n",
    "            model.add(MaxPooling2D((2,2)))\n",
    "\n",
    "            for l in range(conv_layer-1):\n",
    "                model.add(Conv2D(64, (3,3), activation='relu'))\n",
    "                model.add(MaxPooling2D((2,2)))\n",
    "\n",
    "            model.add(Flatten())\n",
    "\n",
    "            for l in range(dense_layer):\n",
    "                model.add(Dense(layer_size, activation='relu'))\n",
    "\n",
    "\n",
    "            model.add(Dense(1, activation='sigmoid'))\n",
    "\n",
    "            model.compile(loss=\"binary_crossentropy\",\n",
    "                          optimizer=\"adam\",\n",
    "                         metrics=['accuracy'])\n",
    "\n",
    "\n",
    "            model.fit(X, y, batch_size=32, validation_split=0.3, epochs=10, callbacks=[tensorboard])"
   ]
  },
  {
   "cell_type": "code",
   "execution_count": 16,
   "metadata": {},
   "outputs": [
    {
     "data": {
      "text/plain": [
       "Reusing TensorBoard on port 6006 (pid 2869), started 6:16:52 ago. (Use '!kill 2869' to kill it.)"
      ]
     },
     "metadata": {},
     "output_type": "display_data"
    },
    {
     "data": {
      "text/html": [
       "\n",
       "      <iframe id=\"tensorboard-frame-6acfb3cd1ffa8040\" width=\"100%\" height=\"800\" frameborder=\"0\">\n",
       "      </iframe>\n",
       "      <script>\n",
       "        (function() {\n",
       "          const frame = document.getElementById(\"tensorboard-frame-6acfb3cd1ffa8040\");\n",
       "          const url = new URL(\"/\", window.location);\n",
       "          url.port = 6006;\n",
       "          frame.src = url;\n",
       "        })();\n",
       "      </script>\n",
       "  "
      ],
      "text/plain": [
       "<IPython.core.display.HTML object>"
      ]
     },
     "metadata": {},
     "output_type": "display_data"
    }
   ],
   "source": [
    "%tensorboard --logdir logs"
   ]
  },
  {
   "cell_type": "code",
   "execution_count": 13,
   "metadata": {},
   "outputs": [
    {
     "name": "stderr",
     "output_type": "stream",
     "text": [
      "W0122 19:06:01.920569 4533693888 deprecation.py:506] From /Users/spiedy/anaconda3/lib/python3.7/site-packages/tensorflow_core/python/ops/resource_variable_ops.py:1781: calling BaseResourceVariable.__init__ (from tensorflow.python.ops.resource_variable_ops) with constraint is deprecated and will be removed in a future version.\n",
      "Instructions for updating:\n",
      "If using Keras pass *_constraint arguments to layers.\n"
     ]
    }
   ],
   "source": [
    "model.save('64x3-CNN.model')"
   ]
  },
  {
   "cell_type": "code",
   "execution_count": 2,
   "metadata": {},
   "outputs": [],
   "source": [
    "new_model = tf.keras.models.load_model(\"64x3-CNN.model\")"
   ]
  },
  {
   "cell_type": "code",
   "execution_count": 3,
   "metadata": {},
   "outputs": [],
   "source": [
    "CATEGORIES = [\"Dog\", \"Cat\"]"
   ]
  },
  {
   "cell_type": "code",
   "execution_count": 6,
   "metadata": {},
   "outputs": [],
   "source": [
    "def prepare_data(img_path):\n",
    "    IMG_SIZE = 70\n",
    "    img_array = cv2.imread(img_path, cv2.IMREAD_GRAYSCALE)\n",
    "    img_array = img_array / 255.0\n",
    "    new_array = cv2.resize(img_array, (IMG_SIZE, IMG_SIZE))\n",
    "    return new_array.reshape(-1, IMG_SIZE, IMG_SIZE, 1)\n"
   ]
  },
  {
   "cell_type": "code",
   "execution_count": 17,
   "metadata": {},
   "outputs": [],
   "source": [
    "pred = model.predict([prepare_data('sofia.jpg')])"
   ]
  },
  {
   "cell_type": "code",
   "execution_count": 18,
   "metadata": {},
   "outputs": [
    {
     "data": {
      "text/plain": [
       "0.9875185"
      ]
     },
     "execution_count": 18,
     "metadata": {},
     "output_type": "execute_result"
    }
   ],
   "source": [
    "pred[0][0]"
   ]
  },
  {
   "cell_type": "code",
   "execution_count": null,
   "metadata": {},
   "outputs": [],
   "source": []
  }
 ],
 "metadata": {
  "kernelspec": {
   "display_name": "Python 3",
   "language": "python",
   "name": "python3"
  },
  "language_info": {
   "codemirror_mode": {
    "name": "ipython",
    "version": 3
   },
   "file_extension": ".py",
   "mimetype": "text/x-python",
   "name": "python",
   "nbconvert_exporter": "python",
   "pygments_lexer": "ipython3",
   "version": "3.7.4"
  }
 },
 "nbformat": 4,
 "nbformat_minor": 4
}
